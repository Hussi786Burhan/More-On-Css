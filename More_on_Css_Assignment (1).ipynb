{
  "cells": [
    {
      "cell_type": "code",
      "execution_count": null,
      "metadata": {
        "id": "jSFyPJsNhgn9"
      },
      "outputs": [],
      "source": []
    },
    {
      "cell_type": "markdown",
      "metadata": {
        "id": "NFb7bZs8iFql"
      },
      "source": [
        " Q:1  Create a navigation bar similar to the below-mentioned image. The navigation bar must contain 5\n",
        "navigation links that are properly placed within the navigation bar using the CSS box model. The navigation\n",
        "items must change their text color on hover."
      ]
    },
    {
      "cell_type": "markdown",
      "metadata": {
        "id": "-XCWVxBVhrWG"
      },
      "source": []
    },
    {
      "cell_type": "code",
      "execution_count": null,
      "metadata": {
        "colab": {
          "base_uri": "https://localhost:8080/",
          "height": 74
        },
        "id": "HY1pUhwEiu-W",
        "outputId": "652d32cc-6f91-40bf-9bfa-199cde389e6f"
      },
      "outputs": [
        {
          "data": {
            "text/html": [
              "\n",
              "<!DOCTYPE html>\n",
              "<html lang=\"en\">\n",
              "<head>\n",
              "    <meta charset=\"UTF-8\">\n",
              "    <meta name=\"viewport\" content=\"width=device-width, initial-scale=1.0\">\n",
              "    <title>Navigation Bar</title>\n",
              "    <style>\n",
              "        nav {\n",
              "            background-color:blue;\n",
              "            padding: 10px;\n",
              "        }\n",
              "        ul {\n",
              "            list-style-type: none;\n",
              "            padding: 0;\n",
              "            margin: 0;\n",
              "            display: flex;\n",
              "            justify-content: space-around;\n",
              "        }\n",
              "        li {\n",
              "            display: inline;\n",
              "        }\n",
              "        a {\n",
              "            color: white;\n",
              "            text-decoration: none;\n",
              "            padding: 10px 20px;\n",
              "            display: inline-block;\n",
              "        }\n",
              "        a:hover {\n",
              "            color: yellow;\n",
              "        }\n",
              "    </style>\n",
              "</head>\n",
              "<body>\n",
              "    <nav>\n",
              "        <ul>\n",
              "            <li><a href=\"#\">Home</a></li>\n",
              "            <li><a href=\"#\">About Us </a></li>\n",
              "            <li><a href=\"#\">Contact</a></li>\n",
              "            <li><a href=\"#\">Blog</a></li>\n",
              "            <li><a href=\"#\">Login</a></li>\n",
              "        </ul>\n",
              "    </nav>\n",
              "</body>\n",
              "</html>\n"
            ],
            "text/plain": [
              "<IPython.core.display.HTML object>"
            ]
          },
          "metadata": {},
          "output_type": "display_data"
        }
      ],
      "source": [
        "from IPython.core.display import display, HTML\n",
        "\n",
        "html_code = \"\"\"\n",
        "<!DOCTYPE html>\n",
        "<html lang=\"en\">\n",
        "<head>\n",
        "    <meta charset=\"UTF-8\">\n",
        "    <meta name=\"viewport\" content=\"width=device-width, initial-scale=1.0\">\n",
        "    <title>Navigation Bar</title>\n",
        "    <style>\n",
        "        nav {\n",
        "            background-color:blue;\n",
        "            padding: 10px;\n",
        "        }\n",
        "        ul {\n",
        "            list-style-type: none;\n",
        "            padding: 0;\n",
        "            margin: 0;\n",
        "            display: flex;\n",
        "            justify-content: space-around;\n",
        "        }\n",
        "        li {\n",
        "            display: inline;\n",
        "        }\n",
        "        a {\n",
        "            color: white;\n",
        "            text-decoration: none;\n",
        "            padding: 10px 20px;\n",
        "            display: inline-block;\n",
        "        }\n",
        "        a:hover {\n",
        "            color: yellow;\n",
        "        }\n",
        "    </style>\n",
        "</head>\n",
        "<body>\n",
        "    <nav>\n",
        "        <ul>\n",
        "            <li><a href=\"#\">Home</a></li>\n",
        "            <li><a href=\"#\">About Us </a></li>\n",
        "            <li><a href=\"#\">Contact</a></li>\n",
        "            <li><a href=\"#\">Blog</a></li>\n",
        "            <li><a href=\"#\">Login</a></li>\n",
        "        </ul>\n",
        "    </nav>\n",
        "</body>\n",
        "</html>\n",
        "\"\"\"\n",
        "\n",
        "display(HTML(html_code))\n"
      ]
    },
    {
      "cell_type": "markdown",
      "metadata": {
        "id": "goTqMwVjjq_-"
      },
      "source": [
        "Q:2 Create a div centered with an image and paragraph similar to the image mentioned below."
      ]
    },
    {
      "cell_type": "code",
      "source": [
        "from IPython.core.display import display, HTML\n",
        "\n",
        "html_code = \"\"\"\n",
        "<!DOCTYPE html>\n",
        "<html lang=\"en\">\n",
        "<head>\n",
        "    <meta charset=\"UTF-8\">\n",
        "    <meta name=\"viewport\" content=\"width=device-width, initial-scale=1.0\">\n",
        "    <title>Centered Div</title>\n",
        "    <style>\n",
        "        .container {\n",
        "            display: flex;\n",
        "            flex-direction: column;\n",
        "            align-items: center;\n",
        "            text-align: center;\n",
        "            margin: 50px auto;\n",
        "            width: 50%;\n",
        "        }\n",
        "        img {\n",
        "            width: 200px;\n",
        "            height: auto;\n",
        "        }\n",
        "    </style>\n",
        "</head>\n",
        "<body>\n",
        "    <div class=\"container\">\n",
        "        <img src=\"https://encrypted-tbn0.gstatic.com/images?q=tbn:ANd9GcRX7wU5HTGLjhjiHB-khDApzD9D4lskonfGbQ&s\" alt=\"Sample Image\">\n",
        "        <p>This is a sample paragraph aligned with the image.</p>\n",
        "    </div>\n",
        "</body>\n",
        "</html>\n",
        "\"\"\"\n",
        "\n",
        "display(HTML(html_code))\n"
      ],
      "metadata": {
        "colab": {
          "base_uri": "https://localhost:8080/",
          "height": 396
        },
        "id": "Yd3m7IyoeYcH",
        "outputId": "721b93f8-fc0c-4163-ab11-22eed4de45e9"
      },
      "execution_count": 2,
      "outputs": [
        {
          "output_type": "display_data",
          "data": {
            "text/plain": [
              "<IPython.core.display.HTML object>"
            ],
            "text/html": [
              "\n",
              "<!DOCTYPE html>\n",
              "<html lang=\"en\">\n",
              "<head>\n",
              "    <meta charset=\"UTF-8\">\n",
              "    <meta name=\"viewport\" content=\"width=device-width, initial-scale=1.0\">\n",
              "    <title>Centered Div</title>\n",
              "    <style>\n",
              "        .container {\n",
              "            display: flex;\n",
              "            flex-direction: column;\n",
              "            align-items: center;\n",
              "            text-align: center;\n",
              "            margin: 50px auto;\n",
              "            width: 50%;\n",
              "        }\n",
              "        img {\n",
              "            width: 200px;\n",
              "            height: auto;\n",
              "        }\n",
              "    </style>\n",
              "</head>\n",
              "<body>\n",
              "    <div class=\"container\">\n",
              "        <img src=\"https://encrypted-tbn0.gstatic.com/images?q=tbn:ANd9GcRX7wU5HTGLjhjiHB-khDApzD9D4lskonfGbQ&s\" alt=\"Sample Image\">\n",
              "        <p>This is a sample paragraph aligned with the image.</p>\n",
              "    </div>\n",
              "</body>\n",
              "</html>\n"
            ]
          },
          "metadata": {}
        }
      ]
    },
    {
      "cell_type": "markdown",
      "source": [
        "Q:3  Create a navigation bar similar to question 1. For each navigation item, use a different border style"
      ],
      "metadata": {
        "id": "UZPPZMbeeyXM"
      }
    },
    {
      "cell_type": "code",
      "source": [
        "from IPython.core.display import display, HTML\n",
        "\n",
        "html_code = \"\"\"\n",
        "<!DOCTYPE html>\n",
        "<html lang=\"en\">\n",
        "<head>\n",
        "    <meta charset=\"UTF-8\">\n",
        "    <title>Navigation with Different Borders</title>\n",
        "    <style>\n",
        "        nav {\n",
        "            background-color: #333;\n",
        "            padding: 10px;\n",
        "        }\n",
        "        ul {\n",
        "            list-style: none;\n",
        "            display: flex;\n",
        "            justify-content: center;\n",
        "            padding: 0;\n",
        "            margin: 0;\n",
        "        }\n",
        "        li {\n",
        "            margin: 0 10px;\n",
        "        }\n",
        "        a {\n",
        "            color: white;\n",
        "            text-decoration: none;\n",
        "            padding: 10px 20px;\n",
        "            display: inline-block;\n",
        "        }\n",
        "\n",
        "        nav ul li:nth-child(1) a { border: 2px solid red; }\n",
        "        nav ul li:nth-child(2) a { border: 2px dashed blue; }\n",
        "        nav ul li:nth-child(3) a { border: 2px dotted green; }\n",
        "        nav ul li:nth-child(4) a { border: 2px double yellow; }\n",
        "        nav ul li:nth-child(5) a { border: 2px groove orange; }\n",
        "\n",
        "           Navbar {\n",
        "            background-color: #555;\n",
        "            border-radius: 10px;\n",
        "        }\n",
        "    </style>\n",
        "</head>\n",
        "<body>\n",
        "    <nav>\n",
        "        <ul>\n",
        "            <li><a href=\"#\">Home</a></li>\n",
        "            <li><a href=\"#\">About</a></li>\n",
        "            <li><a href=\"#\">Services</a></li>\n",
        "            <li><a href=\"#\">Contact</a></li>\n",
        "            <li><a href=\"#\">Blog</a></li>\n",
        "        </ul>\n",
        "    </nav>\n",
        "</body>\n",
        "</html>\n",
        "\"\"\"\n",
        "\n",
        "display(HTML(html_code))\n"
      ],
      "metadata": {
        "colab": {
          "base_uri": "https://localhost:8080/",
          "height": 78
        },
        "id": "1TnzeC5FeYaP",
        "outputId": "5da87d94-bfc6-42e3-cb1d-0d468b3babc7"
      },
      "execution_count": 4,
      "outputs": [
        {
          "output_type": "display_data",
          "data": {
            "text/plain": [
              "<IPython.core.display.HTML object>"
            ],
            "text/html": [
              "\n",
              "<!DOCTYPE html>\n",
              "<html lang=\"en\">\n",
              "<head>\n",
              "    <meta charset=\"UTF-8\">\n",
              "    <title>Navigation with Different Borders</title>\n",
              "    <style>\n",
              "        nav {\n",
              "            background-color: #333;\n",
              "            padding: 10px;\n",
              "        }\n",
              "        ul {\n",
              "            list-style: none;\n",
              "            display: flex;\n",
              "            justify-content: center;\n",
              "            padding: 0;\n",
              "            margin: 0;\n",
              "        }\n",
              "        li {\n",
              "            margin: 0 10px;\n",
              "        }\n",
              "        a {\n",
              "            color: white;\n",
              "            text-decoration: none;\n",
              "            padding: 10px 20px;\n",
              "            display: inline-block;\n",
              "        }\n",
              "\n",
              "        nav ul li:nth-child(1) a { border: 2px solid red; }\n",
              "        nav ul li:nth-child(2) a { border: 2px dashed blue; }\n",
              "        nav ul li:nth-child(3) a { border: 2px dotted green; }\n",
              "        nav ul li:nth-child(4) a { border: 2px double yellow; }\n",
              "        nav ul li:nth-child(5) a { border: 2px groove orange; }\n",
              "\n",
              "           Navbar {\n",
              "            background-color: #555;\n",
              "            border-radius: 10px;\n",
              "        }\n",
              "    </style>\n",
              "</head>\n",
              "<body>\n",
              "    <nav>\n",
              "        <ul>\n",
              "            <li><a href=\"#\">Home</a></li>\n",
              "            <li><a href=\"#\">About</a></li>\n",
              "            <li><a href=\"#\">Services</a></li>\n",
              "            <li><a href=\"#\">Contact</a></li>\n",
              "            <li><a href=\"#\">Blog</a></li>\n",
              "        </ul>\n",
              "    </nav>\n",
              "</body>\n",
              "</html>\n"
            ]
          },
          "metadata": {}
        }
      ]
    },
    {
      "cell_type": "code",
      "source": [],
      "metadata": {
        "id": "AM9FDaEcggUb"
      },
      "execution_count": null,
      "outputs": []
    },
    {
      "cell_type": "markdown",
      "source": [
        " Q:4 Create a simple webpage with an image and make the image circular using border-radius"
      ],
      "metadata": {
        "id": "IsjvAd44g748"
      }
    },
    {
      "cell_type": "code",
      "source": [
        "from IPython.core.display import display, HTML\n",
        "\n",
        "html_code = \"\"\"\n",
        "<!DOCTYPE html>\n",
        "<html lang=\"en\">\n",
        "<head>\n",
        "  <meta charset=\"UTF-8\">\n",
        "  <title>Circular Image</title>\n",
        "  <style>\n",
        "    .circle-image {\n",
        "      width: 200px;\n",
        "      height: 200px;\n",
        "      border-radius: 50%;\n",
        "      object-fit: cover;\n",
        "      display: block;\n",
        "      margin: 50px auto;\n",
        "    }\n",
        "  </style>\n",
        "</head>\n",
        "<body>\n",
        "  <img src=\"https://encrypted-tbn0.gstatic.com/images?q=tbn:ANd9GcRX7wU5HTGLjhjiHB-khDApzD9D4lskonfGbQ&s\" alt=\"Circular Image\" class=\"circle-image\">\n",
        "</body>\n",
        "</html>\n",
        "\"\"\"\n",
        "\n",
        "display(HTML(html_code))\n"
      ],
      "metadata": {
        "colab": {
          "base_uri": "https://localhost:8080/",
          "height": 317
        },
        "id": "RXRRFTK3hFwT",
        "outputId": "9ab403e1-c749-4c37-b163-85e8ee7c53e1"
      },
      "execution_count": 6,
      "outputs": [
        {
          "output_type": "display_data",
          "data": {
            "text/plain": [
              "<IPython.core.display.HTML object>"
            ],
            "text/html": [
              "\n",
              "<!DOCTYPE html>\n",
              "<html lang=\"en\">\n",
              "<head>\n",
              "  <meta charset=\"UTF-8\">\n",
              "  <title>Circular Image</title>\n",
              "  <style>\n",
              "    .circle-image {\n",
              "      width: 200px;\n",
              "      height: 200px;\n",
              "      border-radius: 50%;\n",
              "      object-fit: cover;\n",
              "      display: block;\n",
              "      margin: 50px auto;\n",
              "    }\n",
              "  </style>\n",
              "</head>\n",
              "<body>\n",
              "  <img src=\"https://encrypted-tbn0.gstatic.com/images?q=tbn:ANd9GcRX7wU5HTGLjhjiHB-khDApzD9D4lskonfGbQ&s\" alt=\"Circular Image\" class=\"circle-image\">\n",
              "</body>\n",
              "</html>\n"
            ]
          },
          "metadata": {}
        }
      ]
    },
    {
      "cell_type": "markdown",
      "source": [
        "Q:5  Create a simple blog website about Google fonts. The webpage must have the heading with “Oswald” font\n",
        "align center to the page, below the heading have an image of Google fonts and a paragraph about Google\n",
        "fonts in font “Montserrat” paragraph font style should be“montserrat” font&"
      ],
      "metadata": {
        "id": "KFVKrxqOiRYL"
      }
    },
    {
      "cell_type": "code",
      "source": [
        "from IPython.core.display import display, HTML\n",
        "\n",
        "html_code = \"\"\"\n",
        "<!DOCTYPE html>\n",
        "<html lang=\"en\">\n",
        "<head>\n",
        "  <meta charset=\"UTF-8\">\n",
        "  <title>Google Fonts Blog</title>\n",
        "  <link href=\"https://fonts.googleapis.com/css2?family=Montserrat&family=Oswald&display=swap\" rel=\"stylesheet\">\n",
        "  <style>\n",
        "    body {\n",
        "      font-family: 'Montserrat', sans-serif;\n",
        "      margin: 20px;\n",
        "      text-align: center;\n",
        "    }\n",
        "    h1 {\n",
        "      font-family: 'Oswald', sans-serif;\n",
        "      font-size: 36px;\n",
        "      margin-bottom: 20px;\n",
        "    }\n",
        "    img {\n",
        "      width: 300px;\n",
        "      height: auto;\n",
        "      margin-bottom: 20px;\n",
        "    }\n",
        "    p {\n",
        "      font-size: 18px;\n",
        "      max-width: 700px;\n",
        "      margin: 0 auto;\n",
        "    }\n",
        "  </style>\n",
        "</head>\n",
        "<body>\n",
        "  <h1>Google Fonts</h1>\n",
        "  <img src=\"https://cookiefirst.com/wp-content/uploads/2022/09/google-fonts-logo-gdpr.png\" alt=\"Google Fonts\">\n",
        "  <p>\n",
        "    Google Fonts is a library of over a thousand free licensed font families and APIs for conveniently using the fonts via CSS and Android. The service allows developers and designers to easily add stylish typography to websites without having to host the font files themselves. Fonts like Oswald and Montserrat are among the most popular choices due to their readability and modern appearance.\n",
        "  </p>\n",
        "</body>\n",
        "</html>\n",
        "\"\"\"\n",
        "\n",
        "display(HTML(html_code))\n"
      ],
      "metadata": {
        "colab": {
          "base_uri": "https://localhost:8080/",
          "height": 421
        },
        "id": "RkabU8F-ie-i",
        "outputId": "9f95be8b-b446-49c8-c391-072b157b256f"
      },
      "execution_count": 9,
      "outputs": [
        {
          "output_type": "display_data",
          "data": {
            "text/plain": [
              "<IPython.core.display.HTML object>"
            ],
            "text/html": [
              "\n",
              "<!DOCTYPE html>\n",
              "<html lang=\"en\">\n",
              "<head>\n",
              "  <meta charset=\"UTF-8\">\n",
              "  <title>Google Fonts Blog</title>\n",
              "  <link href=\"https://fonts.googleapis.com/css2?family=Montserrat&family=Oswald&display=swap\" rel=\"stylesheet\">\n",
              "  <style>\n",
              "    body {\n",
              "      font-family: 'Montserrat', sans-serif;\n",
              "      margin: 20px;\n",
              "      text-align: center;\n",
              "    }\n",
              "    h1 {\n",
              "      font-family: 'Oswald', sans-serif;\n",
              "      font-size: 36px;\n",
              "      margin-bottom: 20px;\n",
              "    }\n",
              "    img {\n",
              "      width: 300px;\n",
              "      height: auto;\n",
              "      margin-bottom: 20px;\n",
              "    }\n",
              "    p {\n",
              "      font-size: 18px;\n",
              "      max-width: 700px;\n",
              "      margin: 0 auto;\n",
              "    }\n",
              "  </style>\n",
              "</head>\n",
              "<body>\n",
              "  <h1>Google Fonts</h1>\n",
              "  <img src=\"https://cookiefirst.com/wp-content/uploads/2022/09/google-fonts-logo-gdpr.png\" alt=\"Google Fonts\">\n",
              "  <p>\n",
              "    Google Fonts is a library of over a thousand free licensed font families and APIs for conveniently using the fonts via CSS and Android. The service allows developers and designers to easily add stylish typography to websites without having to host the font files themselves. Fonts like Oswald and Montserrat are among the most popular choices due to their readability and modern appearance.\n",
              "  </p>\n",
              "</body>\n",
              "</html>\n"
            ]
          },
          "metadata": {}
        }
      ]
    },
    {
      "cell_type": "markdown",
      "source": [],
      "metadata": {
        "id": "b8PFMylQiRPL"
      }
    },
    {
      "cell_type": "markdown",
      "source": [
        "Q:6 Create a simple website as mentioned in the below image. You can get the assets by visiting https://\n",
        "pwskills.com/about-us."
      ],
      "metadata": {
        "id": "VRd5C9Xhj7WP"
      }
    },
    {
      "cell_type": "code",
      "source": [
        "from IPython.core.display import display, HTML\n",
        "\n",
        "html_code = \"\"\"\n",
        " <!DOCTYPE html>\n",
        "<html lang=\"en\">\n",
        "<head>\n",
        "  <meta charset=\"UTF-8\">\n",
        "  <title>PW Skills - About Us</title>\n",
        "  <style>\n",
        "    body {\n",
        "      font-family: Arial, sans-serif;\n",
        "      margin: 0;\n",
        "      padding: 0;\n",
        "      line-height: 1.6;\n",
        "      background-color: #f4f4f4;\n",
        "    }\n",
        "\n",
        "    header {\n",
        "      background-color: #212121;\n",
        "      color: white;\n",
        "      padding: 20px 0;\n",
        "      text-align: center;\n",
        "    }\n",
        "\n",
        "    .container {\n",
        "      width: 90%;\n",
        "      max-width: 1000px;\n",
        "      margin: 30px auto;\n",
        "      background-color: white;\n",
        "      padding: 20px;\n",
        "      box-shadow: 0 0 10px rgba(0,0,0,0.1);\n",
        "    }\n",
        "\n",
        "    .about-img {\n",
        "      width: 100%;\n",
        "      max-height: 400px;\n",
        "      object-fit: cover;\n",
        "      margin-bottom: 20px;\n",
        "    }\n",
        "\n",
        "    h2 {\n",
        "      color: white;\n",
        "    }\n",
        "\n",
        "    p {\n",
        "      font-size: 16px;\n",
        "      color: #555;\n",
        "    }\n",
        "\n",
        "    footer {\n",
        "      background-color: #212121;\n",
        "      color: white;\n",
        "      text-align: center;\n",
        "      padding: 10px 0;\n",
        "      margin-top: 40px;\n",
        "    }\n",
        "  </style>\n",
        "</head>\n",
        "<body>\n",
        "\n",
        "  <header>\n",
        "    <h1>PW Skills</h1>\n",
        "    <p>About Us</p>\n",
        "  </header>\n",
        "\n",
        "  <div class=\"container\">\n",
        "    <img class=\"about-img\" src=\"https://encrypted-tbn0.gstatic.com/images?q=tbn:ANd9GcT5QKe2CqCOj8nmJhv_hsCpKd5h7KuoOxHYbg&s\" alt=\"About Us Banner\">\n",
        "    <h2>Our Mission</h2>\n",
        "    <p>PW Skills aims to bridge the gap between skills and opportunity by providing affordable and high-quality education in tech and non-tech fields. We empower learners through structured programs, hands-on experience, and real-world projects.</p>\n",
        "\n",
        "    <h2>Why PW Skills?</h2>\n",
        "    <p>We believe everyone deserves the opportunity to grow their career without financial or technical barriers. Our courses are designed by industry experts and taught in regional languages to make learning more accessible.</p>\n",
        "  </div>\n",
        "\n",
        "  <footer>\n",
        "    <p>&copy; 2025 PW Skills. All rights reserved.</p>\n",
        "  </footer>\n",
        "\n",
        "</body>\n",
        "</html>\n",
        "\n",
        "\"\"\"\n",
        "\n",
        "display(HTML(html_code))\n"
      ],
      "metadata": {
        "colab": {
          "base_uri": "https://localhost:8080/",
          "height": 958
        },
        "id": "ePOFk7ygl_yn",
        "outputId": "746a6eb6-14ba-4956-db74-ea56ef54ebcb"
      },
      "execution_count": 12,
      "outputs": [
        {
          "output_type": "display_data",
          "data": {
            "text/plain": [
              "<IPython.core.display.HTML object>"
            ],
            "text/html": [
              " \n",
              " <!DOCTYPE html>\n",
              "<html lang=\"en\">\n",
              "<head>\n",
              "  <meta charset=\"UTF-8\">\n",
              "  <title>PW Skills - About Us</title>\n",
              "  <style>\n",
              "    body {\n",
              "      font-family: Arial, sans-serif;\n",
              "      margin: 0;\n",
              "      padding: 0;\n",
              "      line-height: 1.6;\n",
              "      background-color: #f4f4f4;\n",
              "    }\n",
              "\n",
              "    header {\n",
              "      background-color: #212121;\n",
              "      color: white;\n",
              "      padding: 20px 0;\n",
              "      text-align: center;\n",
              "    }\n",
              "\n",
              "    .container {\n",
              "      width: 90%;\n",
              "      max-width: 1000px;\n",
              "      margin: 30px auto;\n",
              "      background-color: white;\n",
              "      padding: 20px;\n",
              "      box-shadow: 0 0 10px rgba(0,0,0,0.1);\n",
              "    }\n",
              "\n",
              "    .about-img {\n",
              "      width: 100%;\n",
              "      max-height: 400px;\n",
              "      object-fit: cover;\n",
              "      margin-bottom: 20px;\n",
              "    }\n",
              "\n",
              "    h2 {\n",
              "      color: #333;\n",
              "    }\n",
              "\n",
              "    p {\n",
              "      font-size: 16px;\n",
              "      color: #555;\n",
              "    }\n",
              "\n",
              "    footer {\n",
              "      background-color: #212121;\n",
              "      color: white;\n",
              "      text-align: center;\n",
              "      padding: 10px 0;\n",
              "      margin-top: 40px;\n",
              "    }\n",
              "  </style>\n",
              "</head>\n",
              "<body>\n",
              "\n",
              "  <header>\n",
              "    <h1>PW Skills</h1>\n",
              "    <p>About Us</p>\n",
              "  </header>\n",
              "\n",
              "  <div class=\"container\">\n",
              "    <img class=\"about-img\" src=\"https://encrypted-tbn0.gstatic.com/images?q=tbn:ANd9GcT5QKe2CqCOj8nmJhv_hsCpKd5h7KuoOxHYbg&s\" alt=\"About Us Banner\">\n",
              "    <h2>Our Mission</h2>\n",
              "    <p>PW Skills aims to bridge the gap between skills and opportunity by providing affordable and high-quality education in tech and non-tech fields. We empower learners through structured programs, hands-on experience, and real-world projects.</p>\n",
              "    \n",
              "    <h2>Why PW Skills?</h2>\n",
              "    <p>We believe everyone deserves the opportunity to grow their career without financial or technical barriers. Our courses are designed by industry experts and taught in regional languages to make learning more accessible.</p>\n",
              "  </div>\n",
              "\n",
              "  <footer>\n",
              "    <p>&copy; 2025 PW Skills. All rights reserved.</p>\n",
              "  </footer>\n",
              "\n",
              "</body>\n",
              "</html>\n",
              "\n"
            ]
          },
          "metadata": {}
        }
      ]
    },
    {
      "cell_type": "markdown",
      "source": [
        "Q:7 Create a simple webpage with a card similar to question number 2. The card must be semi-transparent as\n",
        "default and on hovering the card must be displayed clearly. Use CSS opacity to achieve this output.\n",
        "\n",
        "\n"
      ],
      "metadata": {
        "id": "YDCk51iJm0mF"
      }
    },
    {
      "cell_type": "code",
      "source": [
        "from IPython.core.display import display, HTML\n",
        "\n",
        "html_code = \"\"\"\n",
        "<!DOCTYPE html>\n",
        "<html lang=\"en\">\n",
        "<head>\n",
        "  <meta charset=\"UTF-8\">\n",
        "  <title>Transparent Card</title>\n",
        "  <style>\n",
        "    body {\n",
        "      font-family: Arial, sans-serif;\n",
        "      background-color: #f0f0f0;\n",
        "      display: flex;\n",
        "      justify-content: center;\n",
        "      align-items: center;\n",
        "      height: 100vh;\n",
        "      margin: 0;\n",
        "    }\n",
        "\n",
        "    .card {\n",
        "      background-color: white;\n",
        "      width: 300px;\n",
        "      padding: 20px;\n",
        "      border-radius: 10px;\n",
        "      box-shadow: 0 4px 8px rgba(0,0,0,0.2);\n",
        "      text-align: center;\n",
        "      transition: opacity 0.3s ease;\n",
        "      opacity: 0.5; /* semi-transparent */\n",
        "    }\n",
        "\n",
        "    .card:hover {\n",
        "      opacity: 1; /* fully visible on hover */\n",
        "    }\n",
        "\n",
        "    .card img {\n",
        "      width: 100%;\n",
        "      border-radius: 10px;\n",
        "    }\n",
        "\n",
        "    .card h2 {\n",
        "      margin-top: 15px;\n",
        "      color: #333;\n",
        "    }\n",
        "\n",
        "    .card p {\n",
        "      color: #666;\n",
        "    }\n",
        "  </style>\n",
        "</head>\n",
        "<body>\n",
        "\n",
        "  <div class=\"card\">\n",
        "    <img src=\"https://blog.pwskills.com/wp-content/uploads/2023/04/Youths.png\" alt=\"Sample Image\">\n",
        "    <h2>Card Title</h2>\n",
        "    <p>This is a simple semi-transparent card that becomes clear when you hover over it.</p>\n",
        "  </div>\n",
        "\n",
        "</body>\n",
        "</html>\n",
        "\n",
        "\"\"\"\n",
        "\n",
        "display(HTML(html_code))\n"
      ],
      "metadata": {
        "colab": {
          "base_uri": "https://localhost:8080/",
          "height": 1000
        },
        "id": "YZ0gWCpal_wl",
        "outputId": "6b3ea155-012d-4f54-813b-0f268c4a79f8"
      },
      "execution_count": 14,
      "outputs": [
        {
          "output_type": "display_data",
          "data": {
            "text/plain": [
              "<IPython.core.display.HTML object>"
            ],
            "text/html": [
              "\n",
              "<!DOCTYPE html>\n",
              "<html lang=\"en\">\n",
              "<head>\n",
              "  <meta charset=\"UTF-8\">\n",
              "  <title>Transparent Card</title>\n",
              "  <style>\n",
              "    body {\n",
              "      font-family: Arial, sans-serif;\n",
              "      background-color: #f0f0f0;\n",
              "      display: flex;\n",
              "      justify-content: center;\n",
              "      align-items: center;\n",
              "      height: 100vh;\n",
              "      margin: 0;\n",
              "    }\n",
              "\n",
              "    .card {\n",
              "      background-color: white;\n",
              "      width: 300px;\n",
              "      padding: 20px;\n",
              "      border-radius: 10px;\n",
              "      box-shadow: 0 4px 8px rgba(0,0,0,0.2);\n",
              "      text-align: center;\n",
              "      transition: opacity 0.3s ease;\n",
              "      opacity: 0.5; /* semi-transparent */\n",
              "    }\n",
              "\n",
              "    .card:hover {\n",
              "      opacity: 1; /* fully visible on hover */\n",
              "    }\n",
              "\n",
              "    .card img {\n",
              "      width: 100%;\n",
              "      border-radius: 10px;\n",
              "    }\n",
              "\n",
              "    .card h2 {\n",
              "      margin-top: 15px;\n",
              "      color: #333;\n",
              "    }\n",
              "\n",
              "    .card p {\n",
              "      color: #666;\n",
              "    }\n",
              "  </style>\n",
              "</head>\n",
              "<body>\n",
              "\n",
              "  <div class=\"card\">\n",
              "    <img src=\"https://blog.pwskills.com/wp-content/uploads/2023/04/Youths.png\" alt=\"Sample Image\">\n",
              "    <h2>Card Title</h2>\n",
              "    <p>This is a simple semi-transparent card that becomes clear when you hover over it.</p>\n",
              "  </div>\n",
              "\n",
              "</body>\n",
              "</html>\n",
              "\n"
            ]
          },
          "metadata": {}
        }
      ]
    },
    {
      "cell_type": "markdown",
      "source": [],
      "metadata": {
        "id": "LwJhWjzOpgQL"
      }
    },
    {
      "cell_type": "markdown",
      "source": [
        "Q:8 Create a simple list of items as mentioned in the below image.\n"
      ],
      "metadata": {
        "id": "lsAudD0cpgTC"
      }
    },
    {
      "cell_type": "code",
      "source": [
        "from IPython.core.display import display, HTML\n",
        "\n",
        "html_code = \"\"\"\n",
        " <h1>Requirements</h1>\n",
        "<ol style=\"list-style-type: upper-roman; font-size: 18px;\">\n",
        "  <li>System with a minium i3 get proccessor or better</li>\n",
        "  <li>At Least 4GB RAM</li>\n",
        "  <li>Working Internet Connection</li>\n",
        " <li>Dedication to Learn </li>\n",
        "\n",
        "</ol>\n",
        "\"\"\"\n",
        "\n",
        "display(HTML(html_code))\n"
      ],
      "metadata": {
        "colab": {
          "base_uri": "https://localhost:8080/",
          "height": 196
        },
        "id": "wqmeFyEBs9L_",
        "outputId": "4782615b-c9e3-447e-9ca2-529d2eb9da0c"
      },
      "execution_count": 17,
      "outputs": [
        {
          "output_type": "display_data",
          "data": {
            "text/plain": [
              "<IPython.core.display.HTML object>"
            ],
            "text/html": [
              "\n",
              " <h1>Requirements</h1>\n",
              "<ol style=\"list-style-type: upper-roman; font-size: 18px;\">\n",
              "  <li>System with a minium i3 get proccessor or better</li>\n",
              "  <li>At Least 4GB RAM</li>\n",
              "  <li>Working Internet Connection</li>\n",
              " <li>Dedication to Learn </li>\n",
              "  \n",
              "</ol>\n"
            ]
          },
          "metadata": {}
        }
      ]
    },
    {
      "cell_type": "code",
      "source": [],
      "metadata": {
        "id": "xXnYPtjHs8_S"
      },
      "execution_count": null,
      "outputs": []
    }
  ],
  "metadata": {
    "colab": {
      "provenance": []
    },
    "kernelspec": {
      "display_name": "Python 3",
      "name": "python3"
    },
    "language_info": {
      "name": "python"
    }
  },
  "nbformat": 4,
  "nbformat_minor": 0
}